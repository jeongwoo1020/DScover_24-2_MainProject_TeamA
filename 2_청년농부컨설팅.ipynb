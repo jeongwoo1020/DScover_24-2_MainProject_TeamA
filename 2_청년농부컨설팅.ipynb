{
  "cells": [
    {
      "cell_type": "code",
      "execution_count": 1,
      "metadata": {
        "colab": {
          "base_uri": "https://localhost:8080/"
        },
        "id": "6uObP6wZQyQo",
        "outputId": "7910863c-8523-4606-9b82-dbfa91e71744"
      },
      "outputs": [
        {
          "name": "stdout",
          "output_type": "stream",
          "text": [
            "Requirement already satisfied: openai==0.28 in /usr/local/lib/python3.10/dist-packages (0.28.0)\n",
            "Requirement already satisfied: requests>=2.20 in /usr/local/lib/python3.10/dist-packages (from openai==0.28) (2.32.3)\n",
            "Requirement already satisfied: tqdm in /usr/local/lib/python3.10/dist-packages (from openai==0.28) (4.67.1)\n",
            "Requirement already satisfied: aiohttp in /usr/local/lib/python3.10/dist-packages (from openai==0.28) (3.11.10)\n",
            "Requirement already satisfied: charset-normalizer<4,>=2 in /usr/local/lib/python3.10/dist-packages (from requests>=2.20->openai==0.28) (3.4.0)\n",
            "Requirement already satisfied: idna<4,>=2.5 in /usr/local/lib/python3.10/dist-packages (from requests>=2.20->openai==0.28) (3.10)\n",
            "Requirement already satisfied: urllib3<3,>=1.21.1 in /usr/local/lib/python3.10/dist-packages (from requests>=2.20->openai==0.28) (2.2.3)\n",
            "Requirement already satisfied: certifi>=2017.4.17 in /usr/local/lib/python3.10/dist-packages (from requests>=2.20->openai==0.28) (2024.12.14)\n",
            "Requirement already satisfied: aiohappyeyeballs>=2.3.0 in /usr/local/lib/python3.10/dist-packages (from aiohttp->openai==0.28) (2.4.4)\n",
            "Requirement already satisfied: aiosignal>=1.1.2 in /usr/local/lib/python3.10/dist-packages (from aiohttp->openai==0.28) (1.3.2)\n",
            "Requirement already satisfied: async-timeout<6.0,>=4.0 in /usr/local/lib/python3.10/dist-packages (from aiohttp->openai==0.28) (4.0.3)\n",
            "Requirement already satisfied: attrs>=17.3.0 in /usr/local/lib/python3.10/dist-packages (from aiohttp->openai==0.28) (24.3.0)\n",
            "Requirement already satisfied: frozenlist>=1.1.1 in /usr/local/lib/python3.10/dist-packages (from aiohttp->openai==0.28) (1.5.0)\n",
            "Requirement already satisfied: multidict<7.0,>=4.5 in /usr/local/lib/python3.10/dist-packages (from aiohttp->openai==0.28) (6.1.0)\n",
            "Requirement already satisfied: propcache>=0.2.0 in /usr/local/lib/python3.10/dist-packages (from aiohttp->openai==0.28) (0.2.1)\n",
            "Requirement already satisfied: yarl<2.0,>=1.17.0 in /usr/local/lib/python3.10/dist-packages (from aiohttp->openai==0.28) (1.18.3)\n",
            "Requirement already satisfied: typing-extensions>=4.1.0 in /usr/local/lib/python3.10/dist-packages (from multidict<7.0,>=4.5->aiohttp->openai==0.28) (4.12.2)\n"
          ]
        }
      ],
      "source": [
        "!pip install openai==0.28"
      ]
    },
    {
      "cell_type": "code",
      "execution_count": 3,
      "metadata": {
        "colab": {
          "base_uri": "https://localhost:8080/"
        },
        "id": "IZYs8UC___B_",
        "outputId": "7c480f27-304b-4a18-e274-7621fed63a4f"
      },
      "outputs": [
        {
          "name": "stdout",
          "output_type": "stream",
          "text": [
            "추천 지역: 충청남도, 전라남도\n",
            "예상 매출: 375,000,000원\n",
            "예상 순수익: 225,000,000원\n",
            "\n",
            "--- 청년농부를 위한 스마트 노지 컨설팅 ---\n",
            "# 컨설팅 리포트: 스마트 노지 딸기 농부를 위한 전략\n",
            "\n",
            "## 1. 브랜드 이름과 슬로건 제안\n",
            "- **브랜드 이름**: \"딸기마루\"\n",
            "- **슬로건**: \"신선함의 놀이터, 딸기마루\"\n",
            "\n",
            "## 2. 브랜드 스토리\n",
            "\"딸기마루\"는 순수하고 건강한 자연에서 온 딸기를 제공하는 브랜드로, 청정한 대자연 속에서 딸기를 키우는 농부들의 정성과 애정이 가득합니다. 우리는 소비자들에게 최상의 품질의 딸기를 제공함으로써, 건강하고 행복한 삶을 실현하는 데 기여하고자 합니다.\n",
            "\n",
            "## 3. 스마트 노지 경영 전략\n",
            "1. **IoT 기술 활용**: 딸기 농사에 필요한 온도, 습도, 조명 등의 데이터를 실시간으로 모니터링하고 관리할 수 있는 IoT 기술을 도입하여 생산 효율을 높입니다.\n",
            "2. **자동 관수 시스템 구축**: 농부의 노동력을 절감하기 위해 자동 관수 시스템을 도입하여 정확한 양의 물을 공급함으로써 딸기의 생장을 도와줍니다.\n",
            "3. **마케팅 전략 강화**: 온라인을 통한 마케팅을 활발히 진행하여 브랜드 인지도를 높이고, 고객들에게 스마트 노지 딸기의 가치를 전달하는 데 주력합니다.\n",
            "\n",
            "## 4. 재배 전략 및 병해충 관리 방안\n",
            "1. **자연적 방제**: 화학적인 방제보다는 자연적인 방법을 활용하여 병해충을 관리합니다. 또한 유기농 방침을 따라 화학비료 사용을 최소화하여 천연 딸기의 맛과 영양을 유지합니다.\n",
            "2. **일일 관찰 및 조치**: 딸기 농부는 일일이 작물을 관찰하고, 병해충 발견 시 즉각적인 조치를 취하여 전파를 막습니다. 빠른 대응이 농작물을 보호하는 데 중요합니다.\n",
            "\n",
            "청년 농부님의 \"딸기마루\" 브랜드가 성공하기 위해서는 스마트 노지 경영 전략과 철저한 재배 전략이 필수적입니다. 자연과 기술을 조화롭게 활용하여 딸기의 맛과 품질을 높이는데 최선을 다하시기 바랍니다. 함께 성장하는 파트너가 되어 도움이 될 수 있도록 최선을 다하겠습니다.\n"
          ]
        }
      ],
      "source": [
        "import openai\n",
        "\n",
        "crop_data = {\n",
        "    '딸기': {\n",
        "        'cost_per_hectare': 2000000,  # 헥타르당 비용 (원)\n",
        "        'revenue_per_hectare': 5000000,  # 헥타르당 수익 (원)\n",
        "        'suitable_regions': ['충청남도', '전라남도'],\n",
        "    },\n",
        "    '사과': {\n",
        "        'cost_per_hectare': 1500000,\n",
        "        'revenue_per_hectare': 4000000,\n",
        "        'suitable_regions': ['경기도', '강원도'],\n",
        "    },\n",
        "}\n",
        "\n",
        "# GPT API 키 설정\n",
        "openai.api_key = \"api-key\"\n",
        "\n",
        "def recommend_location_and_profit(crop, budget):\n",
        "    crop_info = crop_data.get(crop)\n",
        "    if not crop_info:\n",
        "        return None, None, \"작물 정보가 없습니다.\"\n",
        "\n",
        "    # 예상 재배 면적과 수익 계산\n",
        "    hectares = budget // crop_info['cost_per_hectare']\n",
        "    total_revenue = hectares * crop_info['revenue_per_hectare']\n",
        "    profit = total_revenue - (hectares * crop_info['cost_per_hectare'])\n",
        "\n",
        "    return crop_info['suitable_regions'], total_revenue, profit\n",
        "\n",
        "def generate_branding_and_consulting(region, crop, profit):\n",
        "    prompt = (\n",
        "        f\"당신은 청년농부 컨설턴트입니다. '{region}'지역에 '{crop}' 작물을 기르는 귀농을 하려는 청년 농부에게 아래 내용을 포함하여 컨설팅 리포트를 작성해주세요. 청년 농부는 데이터를 바탕으로 스마트 노지 귀농을 하려 하고 있으며, 청년 농부의 예상 순수익은 {profit}원입니다.\\n\"\n",
        "        \"1. 브랜드 이름과 슬로건 제안\\n\"\n",
        "        \"2. 브랜드 스토리 작성\\n\"\n",
        "        \"3. 스마트 노지 경영 전략 3가지\\n\"\n",
        "        \"4. 재배 전략 및 병해충 관리 방안 2가지\\n\"\n",
        "    )\n",
        "\n",
        "    response = openai.ChatCompletion.create(\n",
        "        model=\"gpt-3.5-turbo\",  # 최신 모델 사용\n",
        "        messages=[\n",
        "            {\"role\": \"system\",\n",
        "             \"content\": prompt},\n",
        "            #{\"role\": \"user\", \"content\":input} #사용자 input 받\n",
        "        ],\n",
        "        temperature=0.7,\n",
        "        #max_tokens=300,\n",
        "    )\n",
        "\n",
        "    return response['choices'][0]['message']['content']\n",
        "\n",
        "def main():\n",
        "    # 사용자 입력 나중에 이렇게 받으면 될듯\n",
        "    # budget = int(input(\"예산을 입력하세요 (원): \"))\n",
        "    # crop = input(\"작물을 입력하세요: \")\n",
        "    budget=150000000\n",
        "    crop='딸기'\n",
        "\n",
        "    # Step 1: 지역 추천 및 예상 수익 계산\n",
        "    regions, total_revenue, profit = recommend_location_and_profit(crop, budget)\n",
        "    if not regions:\n",
        "        print(\"오류:\", profit)\n",
        "        return\n",
        "\n",
        "    print(\"추천 지역:\", \", \".join(regions))\n",
        "    print(f\"예상 매출: {total_revenue:,}원\")\n",
        "    print(f\"예상 순수익: {profit:,}원\")\n",
        "\n",
        "    # Step 2: GPT를 통한 컨설팅 결과 생성\n",
        "    region = regions[0]  # 첫 번째 추천 지역 선택\n",
        "    consulting_result = generate_branding_and_consulting(region, crop, profit)\n",
        "\n",
        "    # 출력\n",
        "    print(\"\\n--- 청년농부를 위한 스마트 노지 컨설팅 ---\")\n",
        "    print(consulting_result)\n",
        "\n",
        "if __name__ == \"__main__\":\n",
        "    main()\n"
      ]
    },
    {
      "cell_type": "code",
      "execution_count": null,
      "metadata": {
        "id": "fnhjpTADQQ6A"
      },
      "outputs": [],
      "source": []
    }
  ],
  "metadata": {
    "colab": {
      "provenance": []
    },
    "kernelspec": {
      "display_name": "Python 3",
      "name": "python3"
    },
    "language_info": {
      "name": "python"
    }
  },
  "nbformat": 4,
  "nbformat_minor": 0
}
